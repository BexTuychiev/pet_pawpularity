{
 "cells": [
  {
   "cell_type": "code",
   "execution_count": 14,
   "id": "2dc2b3b3-09e7-4110-b361-1c212d2b31ac",
   "metadata": {},
   "outputs": [],
   "source": [
    "import logging\n",
    "import os\n",
    "import pathlib\n",
    "import pickle\n",
    "import warnings\n",
    "from pathlib import Path\n",
    "\n",
    "import catboost as cb\n",
    "import joblib\n",
    "import lightgbm as lgb\n",
    "import matplotlib.pyplot as plt\n",
    "import mlflow\n",
    "import numpy as np\n",
    "import pandas as pd\n",
    "import seaborn as sns\n",
    "import xgboost as xgb\n",
    "from dagshub import DAGsHubLogger\n",
    "from sklearn.compose import *\n",
    "from sklearn.dummy import DummyRegressor\n",
    "from sklearn.ensemble import *\n",
    "from sklearn.metrics import mean_squared_error\n",
    "from sklearn.model_selection import *\n",
    "from sklearn.pipeline import *\n",
    "from sklearn.preprocessing import *\n",
    "from sklearn.tree import *\n",
    "\n",
    "warnings.filterwarnings(\"ignore\")\n",
    "\n",
    "logging.basicConfig(\n",
    "    format=\"%(asctime)s - %(message)s\", datefmt=\"%d-%b-%y %H:%M:%S\", level=logging.INFO\n",
    ")\n",
    "\n",
    "SEED = 1121218"
   ]
  },
  {
   "cell_type": "code",
   "execution_count": 9,
   "id": "45468e16-6879-4a7b-88a1-6031372accba",
   "metadata": {},
   "outputs": [],
   "source": [
    "logger = DAGsHubLogger(\n",
    "    metrics_path=\"../metrics/metrics.csv\", hparams_path=\"../metrics/params.yml\"\n",
    ")"
   ]
  },
  {
   "cell_type": "code",
   "execution_count": 11,
   "id": "dd10b4a6-3666-4b28-8dd9-c3f2be1c6a39",
   "metadata": {},
   "outputs": [],
   "source": [
    "mlflow.set_tracking_uri(\"https://dagshub.com/BexTuychiev/pet_pawpularity.mlflow\")"
   ]
  },
  {
   "cell_type": "code",
   "execution_count": 23,
   "id": "284010a0-2ccf-4108-923d-fe5834ed2938",
   "metadata": {},
   "outputs": [],
   "source": [
    "def get_metadata(random_state=SEED):\n",
    "    train_df = pd.read_csv(\"../data/raw/train.csv\").drop([\"Id\"], axis=1)\n",
    "    train, test = train_test_split(train_df, random_state=random_state, test_size=0.1)\n",
    "\n",
    "    x_train, y_train = train.drop(\"Pawpularity\", axis=1), train[[\"Pawpularity\"]]\n",
    "    x_test, y_test = test.drop(\"Pawpularity\", axis=1), test[[\"Pawpularity\"]]\n",
    "\n",
    "    return (x_train, y_train), (x_test, y_test)"
   ]
  },
  {
   "cell_type": "code",
   "execution_count": 28,
   "id": "afb36476-fcdc-431b-b675-98afcaec8a08",
   "metadata": {},
   "outputs": [],
   "source": [
    "import dagshub"
   ]
  },
  {
   "cell_type": "code",
   "execution_count": 29,
   "id": "2a0a78e8-b69d-4627-aa5a-1a7c82af64ce",
   "metadata": {},
   "outputs": [
    {
     "data": {
      "text/plain": [
       "['DAGsHubLogger',\n",
       " '__all__',\n",
       " '__builtins__',\n",
       " '__cached__',\n",
       " '__doc__',\n",
       " '__file__',\n",
       " '__loader__',\n",
       " '__name__',\n",
       " '__package__',\n",
       " '__path__',\n",
       " '__spec__',\n",
       " 'dagshub_logger',\n",
       " 'logger']"
      ]
     },
     "execution_count": 29,
     "metadata": {},
     "output_type": "execute_result"
    }
   ],
   "source": [
    "dagshub.DAGsHubLogger()"
   ]
  }
 ],
 "metadata": {
  "kernelspec": {
   "display_name": "medium_articles",
   "language": "python",
   "name": "medium_articles"
  },
  "language_info": {
   "codemirror_mode": {
    "name": "ipython",
    "version": 3
   },
   "file_extension": ".py",
   "mimetype": "text/x-python",
   "name": "python",
   "nbconvert_exporter": "python",
   "pygments_lexer": "ipython3",
   "version": "3.8.5"
  }
 },
 "nbformat": 4,
 "nbformat_minor": 5
}
